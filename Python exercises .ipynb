{
    "cells": [
        {
            "cell_type": "markdown",
            "metadata": {},
            "source": "Description: Loading the data."
        },
        {
            "cell_type": "code",
            "execution_count": 1,
            "metadata": {},
            "outputs": [
                {
                    "data": {
                        "text/html": "<div>\n<style scoped>\n    .dataframe tbody tr th:only-of-type {\n        vertical-align: middle;\n    }\n\n    .dataframe tbody tr th {\n        vertical-align: top;\n    }\n\n    .dataframe thead th {\n        text-align: right;\n    }\n</style>\n<table border=\"1\" class=\"dataframe\">\n  <thead>\n    <tr style=\"text-align: right;\">\n      <th></th>\n      <th>eomdate</th>\n      <th>salesregion</th>\n      <th>budgettype</th>\n      <th>productcode</th>\n      <th>iirp</th>\n      <th>profitcentercode</th>\n      <th>type</th>\n      <th>source</th>\n      <th>ayear</th>\n      <th>ryear</th>\n      <th>...</th>\n      <th>caseloss</th>\n      <th>casealae</th>\n      <th>ccrptd</th>\n      <th>ccopen</th>\n      <th>alae</th>\n      <th>incurred</th>\n      <th>paid</th>\n      <th>capped</th>\n      <th>pyear</th>\n      <th>LLIndicator</th>\n    </tr>\n  </thead>\n  <tbody>\n    <tr>\n      <th>0</th>\n      <td>44377</td>\n      <td>Great Lakes</td>\n      <td>Yellow Bus</td>\n      <td>1026</td>\n      <td>0</td>\n      <td>1110</td>\n      <td>D</td>\n      <td>Post</td>\n      <td>2013</td>\n      <td>2013</td>\n      <td>...</td>\n      <td>0.0</td>\n      <td>0.0</td>\n      <td>1</td>\n      <td>0</td>\n      <td>60.00</td>\n      <td>1522.81</td>\n      <td>1522.81</td>\n      <td>1522.81</td>\n      <td>2012</td>\n      <td>0</td>\n    </tr>\n    <tr>\n      <th>1</th>\n      <td>44377</td>\n      <td>Great Lakes</td>\n      <td>Yellow Bus</td>\n      <td>1026</td>\n      <td>0</td>\n      <td>1110</td>\n      <td>D</td>\n      <td>Post</td>\n      <td>2013</td>\n      <td>2013</td>\n      <td>...</td>\n      <td>0.0</td>\n      <td>0.0</td>\n      <td>1</td>\n      <td>0</td>\n      <td>100.00</td>\n      <td>980.72</td>\n      <td>980.72</td>\n      <td>980.72</td>\n      <td>2012</td>\n      <td>0</td>\n    </tr>\n    <tr>\n      <th>2</th>\n      <td>44377</td>\n      <td>Great Lakes</td>\n      <td>Yellow Bus</td>\n      <td>1026</td>\n      <td>0</td>\n      <td>1110</td>\n      <td>D</td>\n      <td>Post</td>\n      <td>2013</td>\n      <td>2013</td>\n      <td>...</td>\n      <td>0.0</td>\n      <td>0.0</td>\n      <td>1</td>\n      <td>0</td>\n      <td>9613.05</td>\n      <td>9613.05</td>\n      <td>9613.05</td>\n      <td>9613.05</td>\n      <td>2013</td>\n      <td>0</td>\n    </tr>\n    <tr>\n      <th>3</th>\n      <td>44377</td>\n      <td>Great Lakes</td>\n      <td>Yellow Bus</td>\n      <td>1026</td>\n      <td>0</td>\n      <td>1110</td>\n      <td>D</td>\n      <td>Post</td>\n      <td>2013</td>\n      <td>2013</td>\n      <td>...</td>\n      <td>0.0</td>\n      <td>0.0</td>\n      <td>1</td>\n      <td>0</td>\n      <td>100.00</td>\n      <td>2270.13</td>\n      <td>2270.13</td>\n      <td>2270.13</td>\n      <td>2013</td>\n      <td>0</td>\n    </tr>\n    <tr>\n      <th>4</th>\n      <td>44377</td>\n      <td>Great Lakes</td>\n      <td>Yellow Bus</td>\n      <td>1026</td>\n      <td>0</td>\n      <td>1110</td>\n      <td>D</td>\n      <td>Post</td>\n      <td>2013</td>\n      <td>2013</td>\n      <td>...</td>\n      <td>0.0</td>\n      <td>0.0</td>\n      <td>1</td>\n      <td>0</td>\n      <td>1949.28</td>\n      <td>1949.28</td>\n      <td>1949.28</td>\n      <td>1949.28</td>\n      <td>2012</td>\n      <td>0</td>\n    </tr>\n  </tbody>\n</table>\n<p>5 rows \u00d7 40 columns</p>\n</div>",
                        "text/plain": "   eomdate  salesregion  budgettype  productcode  iirp  profitcentercode type  \\\n0    44377  Great Lakes  Yellow Bus         1026     0              1110    D   \n1    44377  Great Lakes  Yellow Bus         1026     0              1110    D   \n2    44377  Great Lakes  Yellow Bus         1026     0              1110    D   \n3    44377  Great Lakes  Yellow Bus         1026     0              1110    D   \n4    44377  Great Lakes  Yellow Bus         1026     0              1110    D   \n\n  source  ayear  ryear  ...  caseloss  casealae  ccrptd  ccopen     alae  \\\n0   Post   2013   2013  ...       0.0       0.0       1       0    60.00   \n1   Post   2013   2013  ...       0.0       0.0       1       0   100.00   \n2   Post   2013   2013  ...       0.0       0.0       1       0  9613.05   \n3   Post   2013   2013  ...       0.0       0.0       1       0   100.00   \n4   Post   2013   2013  ...       0.0       0.0       1       0  1949.28   \n\n   incurred     paid   capped  pyear LLIndicator  \n0   1522.81  1522.81  1522.81   2012           0  \n1    980.72   980.72   980.72   2012           0  \n2   9613.05  9613.05  9613.05   2013           0  \n3   2270.13  2270.13  2270.13   2013           0  \n4   1949.28  1949.28  1949.28   2012           0  \n\n[5 rows x 40 columns]"
                    },
                    "execution_count": 1,
                    "metadata": {},
                    "output_type": "execute_result"
                }
            ],
            "source": "# The code was removed by Watson Studio for sharing."
        },
        {
            "cell_type": "code",
            "execution_count": null,
            "metadata": {},
            "outputs": [],
            "source": ""
        }
    ],
    "metadata": {
        "kernelspec": {
            "display_name": "Python 3.8",
            "language": "python",
            "name": "python3"
        },
        "language_info": {
            "codemirror_mode": {
                "name": "ipython",
                "version": 3
            },
            "file_extension": ".py",
            "mimetype": "text/x-python",
            "name": "python",
            "nbconvert_exporter": "python",
            "pygments_lexer": "ipython3",
            "version": "3.8.12"
        }
    },
    "nbformat": 4,
    "nbformat_minor": 1
}